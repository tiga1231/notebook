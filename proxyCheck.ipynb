{
 "cells": [
  {
   "cell_type": "code",
   "execution_count": 13,
   "metadata": {},
   "outputs": [
    {
     "name": "stdout",
     "output_type": "stream",
     "text": [
      "112.74.217.34\n",
      "\n"
     ]
    }
   ],
   "source": [
    "import urllib\n",
    "p = '110.171.227.106:3128'\n",
    "p = '151.80.140.233:54566'\n",
    "p = '112.74.217.34:80'\n",
    "res = urllib.urlopen(\"http://icanhazip.com/\",proxies={'http':'http://'+p})\n",
    "#res = urllib.urlopen(\"https://free-proxy-list.net/\")\n",
    "\n",
    "print res.read()"
   ]
  },
  {
   "cell_type": "code",
   "execution_count": null,
   "metadata": {},
   "outputs": [],
   "source": []
  }
 ],
 "metadata": {
  "kernelspec": {
   "display_name": "Python 2",
   "language": "python",
   "name": "python2"
  },
  "language_info": {
   "codemirror_mode": {
    "name": "ipython",
    "version": 2
   },
   "file_extension": ".py",
   "mimetype": "text/x-python",
   "name": "python",
   "nbconvert_exporter": "python",
   "pygments_lexer": "ipython2",
   "version": "2.7.10"
  }
 },
 "nbformat": 4,
 "nbformat_minor": 2
}
