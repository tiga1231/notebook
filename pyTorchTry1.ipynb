{
 "cells": [
  {
   "cell_type": "code",
   "execution_count": 3,
   "metadata": {
    "scrolled": false
   },
   "outputs": [
    {
     "name": "stdout",
     "output_type": "stream",
     "text": [
      "<class 'torch.FloatTensor'>\n",
      "<class 'torch.autograd.variable.Variable'>\n",
      "\n",
      " 2\n",
      "[torch.FloatTensor of size 1]\n",
      "\n",
      "Variable containing:\n",
      " 1\n",
      "[torch.FloatTensor of size 1]\n",
      "\n"
     ]
    }
   ],
   "source": [
    "import torch\n",
    "import numpy as np\n",
    "\n",
    "from torch.autograd import Variable\n",
    "\n",
    "import torch.nn as nn\n",
    "import torch.nn.functional as F\n",
    "\n",
    "x = Variable(torch.Tensor([1.1]), requires_grad=True)\n",
    "y = Variable(torch.Tensor([2.1]), requires_grad=True)\n",
    "z = 2*x+y\n",
    "\n",
    "z.backward(torch.Tensor([1.0]))\n",
    "\n",
    "print type(x.grad.data)\n",
    "print type(y.grad)\n",
    "print x.grad.data\n",
    "print y.grad\n"
   ]
  },
  {
   "cell_type": "code",
   "execution_count": 4,
   "metadata": {},
   "outputs": [
    {
     "name": "stdout",
     "output_type": "stream",
     "text": [
      "\n",
      " 3  3\n",
      " 7  7\n",
      "[torch.FloatTensor of size 2x2]\n",
      "\n"
     ]
    }
   ],
   "source": [
    "a = torch.Tensor([[1,2],[3,4]])\n",
    "b = torch.Tensor([[1,1],[1,1]])\n",
    "print a.matmul(b)"
   ]
  },
  {
   "cell_type": "code",
   "execution_count": 5,
   "metadata": {},
   "outputs": [
    {
     "data": {
      "image/png": "[encoded data removed]",
      "text/plain": [
       "<matplotlib.figure.Figure at 0x10f026c90>"
      ]
     },
     "metadata": {},
     "output_type": "display_data"
    }
   ],
   "source": [
    "'''gradient descent demo'''\n",
    "\n",
    "import torch.autograd as autograd\n",
    "import matplotlib.pyplot as plt\n",
    "\n",
    "#%matplotlib notebook\n",
    "%matplotlib inline\n",
    "\n",
    "#import mpld3\n",
    "#mpld3.enable_notebook()\n",
    "\n",
    "x = autograd.Variable(torch.Tensor([2.1]), requires_grad=True)\n",
    "\n",
    "rate = 0.05\n",
    "\n",
    "l = []\n",
    "n = 100\n",
    "for i in xrange(n):\n",
    "    y = (x-1)*(x-2)*(x-3)*x\n",
    "    y.backward()\n",
    "    x.data = x.data - x.grad.data * rate\n",
    "    l.append( float(x.data.numpy()) )\n",
    "\n",
    "    x.grad.data.zero_()\n",
    "\n",
    "plt.figure(figsize=[10,5])\n",
    "plt.subplot(121)\n",
    "x = np.linspace(-0.5,3.5,100)\n",
    "y = (x-1)*(x-2)*(x-3)*x\n",
    "plt.plot(x, y, '.-')\n",
    "plt.grid()\n",
    "\n",
    "plt.subplot(122)\n",
    "plt.plot(range(n), l, '.-')\n",
    "plt.show()\n"
   ]
  },
  {
   "cell_type": "code",
   "execution_count": 6,
   "metadata": {},
   "outputs": [
    {
     "name": "stdout",
     "output_type": "stream",
     "text": [
      "[torch.Size([6, 1, 5, 5]), torch.Size([6]), torch.Size([16, 6, 5, 5]), torch.Size([16]), torch.Size([120, 400]), torch.Size([120]), torch.Size([84, 120]), torch.Size([84]), torch.Size([10, 84]), torch.Size([10])]\n"
     ]
    }
   ],
   "source": [
    "import torch\n",
    "from torch.autograd import Variable\n",
    "import torch.nn as nn\n",
    "import torch.nn.functional as F\n",
    "\n",
    "class Net(nn.Module):\n",
    "    def __init__(self):\n",
    "        super(Net, self).__init__()\n",
    "        self.conv1 = nn.Conv2d(1,6,5)# 1x6 x 5x5\n",
    "        self.conv2 = nn.Conv2d(6,16,5)\n",
    "        self.fc1 = nn.Linear(16*5*5, 120)\n",
    "        self.fc2 = nn.Linear(120,84)\n",
    "        self.fc3 = nn.Linear(84, 10)\n",
    "        \n",
    "    def forward(self, x):\n",
    "        x = self.conv1(x)\n",
    "        x = F.relu(x)\n",
    "        x = F.max_pool2d(x, (2,2))\n",
    "        \n",
    "        x = self.conv2(x)\n",
    "        x = F.relu(x)\n",
    "        x = F.max_pool2d(x, (2,2))\n",
    "        \n",
    "        x = x.view(-1, self.num_flat_features(x))\n",
    "        \n",
    "        x = self.fc1(x)\n",
    "        x = F.relu(x)\n",
    "        \n",
    "        x = self.fc2(x)\n",
    "        x = F.relu(x)\n",
    "        \n",
    "        x = self.fc3(x)\n",
    "        return x\n",
    "    \n",
    "    \n",
    "    def num_flat_features(self, x):\n",
    "        size = x.size()[1:]\n",
    "        num_reatures = 1\n",
    "        for s in size:\n",
    "            num_reatures *= s\n",
    "        return num_reatures\n",
    "    \n",
    "net = Net()\n",
    "print [i.size() for i in net.parameters()]\n"
   ]
  },
  {
   "cell_type": "code",
   "execution_count": 7,
   "metadata": {},
   "outputs": [
    {
     "name": "stdout",
     "output_type": "stream",
     "text": [
      "Variable containing:\n",
      " 0.0520 -0.1056 -0.1166  0.0368  0.1084  0.0332  0.0812 -0.1020 -0.0697  0.0795\n",
      "[torch.FloatTensor of size 1x10]\n",
      "\n"
     ]
    },
    {
     "data": {
      "text/plain": [
       "\n",
       "(0 ,0 ,.,.) = \n",
       "   0   0   0  ...    0   0   0\n",
       "   0   0   0  ...    0   0   0\n",
       "   0   0   0  ...    0   0   0\n",
       "     ...       ⋱       ...    \n",
       "   0   0   0  ...    0   0   0\n",
       "   0   0   0  ...    0   0   0\n",
       "   0   0   0  ...    0   0   0\n",
       "[torch.FloatTensor of size 1x1x32x32]"
      ]
     },
     "execution_count": 7,
     "metadata": {},
     "output_type": "execute_result"
    }
   ],
   "source": [
    "x = Variable(torch.randn(1,1,32,32), requires_grad=True)\n",
    "y = net(x)\n",
    "print y\n",
    "\n",
    "#plt.imshow(x.data[0,0,:,:].numpy())\n",
    "#plt.imshow(y.data.numpy())\n",
    "#plt.show()\n",
    "\n",
    "net.zero_grad()\n",
    "y.backward(torch.ones(1,10))\n",
    "#print list(net.parameters())[0].grad[0,0,:,:]\n",
    "net.zero_grad()\n",
    "#print list(net.parameters())[0].grad[0,0,:,:]\n",
    "\n",
    "x.grad.data.zero_()\n",
    "#print x.grad[0,0,:,:]"
   ]
  },
  {
   "cell_type": "code",
   "execution_count": 11,
   "metadata": {},
   "outputs": [],
   "source": [
    "x = Variable(torch.randn(1,1,32,32), requires_grad=True)\n",
    "y = net(x)\n",
    "\n",
    "y_ = Variable(torch.zeros(1,10))\n",
    "mse = nn.MSELoss()\n",
    "\n",
    "loss = mse(y, y_)\n",
    "#print loss.grad_fn.next_functions[0][0]\n",
    "\n",
    "net.zero_grad()\n",
    "#print net.conv1.bias.grad\n",
    "loss.backward()\n",
    "#print net.conv1.bias.grad\n",
    "\n",
    "#manually update weights\n",
    "rate = 0.01\n",
    "for f in net.parameters():\n",
    "    f.data.sub_(f.grad.data * rate)\n",
    "    "
   ]
  },
  {
   "cell_type": "code",
   "execution_count": 9,
   "metadata": {},
   "outputs": [],
   "source": [
    "import torch.optim as optim\n",
    "\n",
    "optimizer = optim.SGD(net.parameters(), lr=0.01)\n",
    "optimizer.zero_grad()\n",
    "y = net(x)\n",
    "loss = mse(y, y_)\n",
    "loss.backward()\n",
    "optimizer.step()"
   ]
  },
  {
   "cell_type": "code",
   "execution_count": 14,
   "metadata": {},
   "outputs": [
    {
     "data": {
      "text/plain": [
       "Variable containing:\n",
       "(0 ,0 ,.,.) = \n",
       "  1.0254  1.3179 -0.7910  ...   0.2948  0.1722 -1.4492\n",
       "  0.8577  0.6890  1.3981  ...   1.7602 -0.1928  0.6099\n",
       "  1.9167 -0.3214  1.8053  ...  -1.5619  1.9129  1.5047\n",
       "           ...             ⋱             ...          \n",
       " -0.6602  1.0985 -0.2746  ...  -1.8150 -0.1195 -0.8950\n",
       " -1.3051 -0.8002 -0.6616  ...  -1.2970  1.8517  1.0502\n",
       "  0.2892  0.4739  0.7683  ...  -0.4165  2.0016 -0.8958\n",
       "[torch.FloatTensor of size 1x1x32x32]"
      ]
     },
     "execution_count": 14,
     "metadata": {},
     "output_type": "execute_result"
    }
   ],
   "source": [
    "x"
   ]
  },
  {
   "cell_type": "code",
   "execution_count": null,
   "metadata": {},
   "outputs": [],
   "source": []
  }
 ],
 "metadata": {
  "kernelspec": {
   "display_name": "Python 2",
   "language": "python",
   "name": "python2"
  },
  "language_info": {
   "codemirror_mode": {
    "name": "ipython",
    "version": 2
   },
   "file_extension": ".py",
   "mimetype": "text/x-python",
   "name": "python",
   "nbconvert_exporter": "python",
   "pygments_lexer": "ipython2",
   "version": "2.7.10"
  }
 },
 "nbformat": 4,
 "nbformat_minor": 2
}
