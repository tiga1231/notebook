{
 "cells": [
  {
   "cell_type": "code",
   "execution_count": 1,
   "metadata": {},
   "outputs": [],
   "source": [
    "#learn a (1D) curve\n",
    "\n",
    "import numpy as np\n",
    "import matplotlib.pyplot as plt\n",
    "\n",
    "import torch\n",
    "from torch.autograd import Variable\n",
    "import torch.optim as optim\n",
    "\n",
    "import torch.nn as nn\n",
    "import torch.nn.functional as F\n",
    "\n",
    "#import mpld3\n",
    "#mpld3.enable_notebook()"
   ]
  },
  {
   "cell_type": "code",
   "execution_count": 2,
   "metadata": {},
   "outputs": [],
   "source": [
    "class Net(nn.Module):\n",
    "    def __init__(self):\n",
    "        super(Net, self).__init__()\n",
    "        self.fc1 = nn.Linear(1,2)\n",
    "        #self.fc2 = nn.Linear(10,10)\n",
    "        self.fc3 = nn.Linear(2,1)\n",
    "        self.act = F.relu\n",
    "        \n",
    "    def forward(self, x):\n",
    "        x = self.fc1(x)\n",
    "        x = self.act(x)\n",
    "        #x = self.fc2(x)\n",
    "        #x = self.act(x)\n",
    "        x = self.fc3(x)\n",
    "        return x"
   ]
  },
  {
   "cell_type": "code",
   "execution_count": 3,
   "metadata": {},
   "outputs": [],
   "source": [
    "def f(x):\n",
    "    return 500*torch.sin(x) + 1000\n",
    "\n",
    "def noise(x):\n",
    "    return 0\n",
    "\n"
   ]
  },
  {
   "cell_type": "code",
   "execution_count": 15,
   "metadata": {},
   "outputs": [
    {
     "data": {
      "image/png": "[encoded data removed]",
      "text/plain": [
       "<matplotlib.figure.Figure at 0x10bac5fd0>"
      ]
     },
     "metadata": {},
     "output_type": "display_data"
    },
    {
     "data": {
      "image/png": "[encoded data removed]",
      "text/plain": [
       "<matplotlib.figure.Figure at 0x10bcf8250>"
      ]
     },
     "metadata": {},
     "output_type": "display_data"
    }
   ],
   "source": [
    "net = Net()\n",
    "mse = nn.MSELoss()\n",
    "optimizer = optim.SGD(net.parameters(), lr=0.01)\n",
    "\n",
    "x = Variable(torch.rand(10000,1)*6)\n",
    "mean = x.mean()\n",
    "std = x.std()\n",
    "\n",
    "y_ = f(x)\n",
    "ymean = y_.mean()\n",
    "ystd = y_.std()\n",
    "\n",
    "normalizeX = True\n",
    "normalizeY = True\n",
    "\n",
    "for _ in range(4000):\n",
    "    x = Variable(torch.rand(10,1)*6)\n",
    "    y_ = f(x)\n",
    "    \n",
    "    if normalizeX:\n",
    "        x = (x-mean)/std\n",
    "    if normalizeY:\n",
    "        y_ = (y_-ymean)/ystd\n",
    "    \n",
    "    y = net(x)\n",
    "    loss = mse(y, y_)\n",
    "    \n",
    "    optimizer.zero_grad()\n",
    "    loss.backward()\n",
    "    optimizer.step()\n",
    "\n",
    "#test data\n",
    "x = Variable(torch.linspace(-6,12).resize_(100,1))\n",
    "y_ = f(x)\n",
    "y = net(x)\n",
    "\n",
    "if normalizeX:\n",
    "    x1 = (x-mean)/std\n",
    "else:\n",
    "    x1 = x\n",
    "\n",
    "if normalizeY:\n",
    "    y1_= (y_-ymean)/ystd\n",
    "    y1 = net(x1)\n",
    "    y = y1*ystd+ymean\n",
    "else:\n",
    "    y1_= y_\n",
    "    y1 = net(x1)\n",
    "\n",
    "\n",
    "#plt.subplot(211)\n",
    "plt.plot(x.data.numpy(), y_.data.numpy(), 'o',c='#eeeeee')\n",
    "plt.plot(x.data.numpy()[33:66], y_.data.numpy()[33:66], '.')\n",
    "plt.plot(x.data.numpy(), y.data.numpy(), '.-')\n",
    "# plt.subplot(212)\n",
    "plt.figure()\n",
    "plt.plot(x1.data.numpy(), y1_.data.numpy(), 'o',c='#eeeeee')\n",
    "plt.plot(x1.data.numpy()[33:66], y1_.data.numpy()[33:66], '.')\n",
    "plt.plot(x1.data.numpy(), y1.data.numpy(), '.-')\n",
    "plt.show()"
   ]
  },
  {
   "cell_type": "code",
   "execution_count": 16,
   "metadata": {
    "scrolled": true
   },
   "outputs": [
    {
     "name": "stdout",
     "output_type": "stream",
     "text": [
      "Parameter containing:\n",
      "-1.6370\n",
      "-1.4330\n",
      "[torch.FloatTensor of size 2x1]\n",
      "\n",
      "Parameter containing:\n",
      "-1.1045\n",
      " 0.9395\n",
      "[torch.FloatTensor of size 2]\n",
      "\n",
      "Parameter containing:\n",
      "-1.9657  1.4123\n",
      "[torch.FloatTensor of size 1x2]\n",
      "\n",
      "Parameter containing:\n",
      "-1.1346\n",
      "[torch.FloatTensor of size 1]\n",
      "\n"
     ]
    }
   ],
   "source": [
    "for i in list(net.parameters()):\n",
    "    print i\n",
    "    pass"
   ]
  },
  {
   "cell_type": "code",
   "execution_count": 6,
   "metadata": {},
   "outputs": [
    {
     "data": {
      "text/plain": [
       "Variable containing:\n",
       " -6.0000\n",
       " -5.8182\n",
       " -5.6364\n",
       " -5.4545\n",
       " -5.2727\n",
       " -5.0909\n",
       " -4.9091\n",
       " -4.7273\n",
       " -4.5455\n",
       " -4.3636\n",
       " -4.1818\n",
       " -4.0000\n",
       " -3.8182\n",
       " -3.6364\n",
       " -3.4545\n",
       " -3.2727\n",
       " -3.0909\n",
       " -2.9091\n",
       " -2.7273\n",
       " -2.5455\n",
       " -2.3636\n",
       " -2.1818\n",
       " -2.0000\n",
       " -1.8182\n",
       " -1.6364\n",
       " -1.4545\n",
       " -1.2727\n",
       " -1.0909\n",
       " -0.9091\n",
       " -0.7273\n",
       " -0.5455\n",
       " -0.3636\n",
       " -0.1818\n",
       "  0.0000\n",
       "  0.1818\n",
       "  0.3636\n",
       "  0.5455\n",
       "  0.7273\n",
       "  0.9091\n",
       "  1.0909\n",
       "  1.2727\n",
       "  1.4545\n",
       "  1.6364\n",
       "  1.8182\n",
       "  2.0000\n",
       "  2.1818\n",
       "  2.3636\n",
       "  2.5455\n",
       "  2.7273\n",
       "  2.9091\n",
       "  3.0909\n",
       "  3.2727\n",
       "  3.4545\n",
       "  3.6364\n",
       "  3.8182\n",
       "  4.0000\n",
       "  4.1818\n",
       "  4.3636\n",
       "  4.5455\n",
       "  4.7273\n",
       "  4.9091\n",
       "  5.0909\n",
       "  5.2727\n",
       "  5.4545\n",
       "  5.6364\n",
       "  5.8182\n",
       "  6.0000\n",
       "  6.1818\n",
       "  6.3636\n",
       "  6.5455\n",
       "  6.7273\n",
       "  6.9091\n",
       "  7.0909\n",
       "  7.2727\n",
       "  7.4545\n",
       "  7.6364\n",
       "  7.8182\n",
       "  8.0000\n",
       "  8.1818\n",
       "  8.3636\n",
       "  8.5455\n",
       "  8.7273\n",
       "  8.9091\n",
       "  9.0909\n",
       "  9.2727\n",
       "  9.4545\n",
       "  9.6364\n",
       "  9.8182\n",
       " 10.0000\n",
       " 10.1818\n",
       " 10.3636\n",
       " 10.5455\n",
       " 10.7273\n",
       " 10.9091\n",
       " 11.0909\n",
       " 11.2727\n",
       " 11.4545\n",
       " 11.6364\n",
       " 11.8182\n",
       " 12.0000\n",
       "[torch.FloatTensor of size 100x1]"
      ]
     },
     "execution_count": 6,
     "metadata": {},
     "output_type": "execute_result"
    }
   ],
   "source": [
    "x"
   ]
  }
 ],
 "metadata": {
  "kernelspec": {
   "display_name": "Python 2",
   "language": "python",
   "name": "python2"
  },
  "language_info": {
   "codemirror_mode": {
    "name": "ipython",
    "version": 2
   },
   "file_extension": ".py",
   "mimetype": "text/x-python",
   "name": "python",
   "nbconvert_exporter": "python",
   "pygments_lexer": "ipython2",
   "version": "2.7.10"
  }
 },
 "nbformat": 4,
 "nbformat_minor": 2
}
